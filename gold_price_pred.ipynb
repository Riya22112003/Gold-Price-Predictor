{
 "cells": [
  {
   "cell_type": "code",
   "execution_count": 1,
   "metadata": {},
   "outputs": [],
   "source": [
    "import pandas as pd\n",
    "import seaborn as sns\n",
    "import matplotlib.pyplot as plt\n",
    "import numpy as np\n",
    "import warnings\n",
    "warnings.filterwarnings('ignore')\n",
    "from sklearn.model_selection import train_test_split\n",
    "from sklearn.linear_model import LinearRegression\n",
    "from sklearn.ensemble import RandomForestRegressor\n",
    "from sklearn import metrics"
   ]
  },
  {
   "cell_type": "markdown",
   "metadata": {},
   "source": [
    "### Data Collection And Processing"
   ]
  },
  {
   "cell_type": "code",
   "execution_count": 2,
   "metadata": {},
   "outputs": [],
   "source": [
    "# loading the csv data to pandas dataframe\n",
    "gld_data=pd.read_csv('gld_price_data.csv')"
   ]
  },
  {
   "cell_type": "code",
   "execution_count": 3,
   "metadata": {},
   "outputs": [
    {
     "data": {
      "text/html": [
       "<div>\n",
       "<style scoped>\n",
       "    .dataframe tbody tr th:only-of-type {\n",
       "        vertical-align: middle;\n",
       "    }\n",
       "\n",
       "    .dataframe tbody tr th {\n",
       "        vertical-align: top;\n",
       "    }\n",
       "\n",
       "    .dataframe thead th {\n",
       "        text-align: right;\n",
       "    }\n",
       "</style>\n",
       "<table border=\"1\" class=\"dataframe\">\n",
       "  <thead>\n",
       "    <tr style=\"text-align: right;\">\n",
       "      <th></th>\n",
       "      <th>Date</th>\n",
       "      <th>SPX</th>\n",
       "      <th>GLD</th>\n",
       "      <th>USO</th>\n",
       "      <th>SLV</th>\n",
       "      <th>EUR/USD</th>\n",
       "    </tr>\n",
       "  </thead>\n",
       "  <tbody>\n",
       "    <tr>\n",
       "      <th>1637</th>\n",
       "      <td>6/3/2015</td>\n",
       "      <td>2114.070068</td>\n",
       "      <td>113.639999</td>\n",
       "      <td>20.170000</td>\n",
       "      <td>15.830000</td>\n",
       "      <td>1.125784</td>\n",
       "    </tr>\n",
       "    <tr>\n",
       "      <th>1046</th>\n",
       "      <td>10/11/2012</td>\n",
       "      <td>1432.839966</td>\n",
       "      <td>171.320007</td>\n",
       "      <td>34.290001</td>\n",
       "      <td>32.900002</td>\n",
       "      <td>1.293326</td>\n",
       "    </tr>\n",
       "    <tr>\n",
       "      <th>167</th>\n",
       "      <td>10/31/2008</td>\n",
       "      <td>968.750000</td>\n",
       "      <td>71.339996</td>\n",
       "      <td>55.590000</td>\n",
       "      <td>9.580000</td>\n",
       "      <td>1.270196</td>\n",
       "    </tr>\n",
       "    <tr>\n",
       "      <th>975</th>\n",
       "      <td>6/6/2012</td>\n",
       "      <td>1315.130005</td>\n",
       "      <td>157.210007</td>\n",
       "      <td>32.150002</td>\n",
       "      <td>28.510000</td>\n",
       "      <td>1.257387</td>\n",
       "    </tr>\n",
       "    <tr>\n",
       "      <th>1084</th>\n",
       "      <td>12/13/2012</td>\n",
       "      <td>1419.449951</td>\n",
       "      <td>164.369995</td>\n",
       "      <td>31.580000</td>\n",
       "      <td>31.530001</td>\n",
       "      <td>1.306677</td>\n",
       "    </tr>\n",
       "  </tbody>\n",
       "</table>\n",
       "</div>"
      ],
      "text/plain": [
       "            Date          SPX         GLD        USO        SLV   EUR/USD\n",
       "1637    6/3/2015  2114.070068  113.639999  20.170000  15.830000  1.125784\n",
       "1046  10/11/2012  1432.839966  171.320007  34.290001  32.900002  1.293326\n",
       "167   10/31/2008   968.750000   71.339996  55.590000   9.580000  1.270196\n",
       "975     6/6/2012  1315.130005  157.210007  32.150002  28.510000  1.257387\n",
       "1084  12/13/2012  1419.449951  164.369995  31.580000  31.530001  1.306677"
      ]
     },
     "execution_count": 3,
     "metadata": {},
     "output_type": "execute_result"
    }
   ],
   "source": [
    "# analysis of data \n",
    "gld_data.sample(5)"
   ]
  },
  {
   "cell_type": "code",
   "execution_count": 4,
   "metadata": {},
   "outputs": [
    {
     "name": "stdout",
     "output_type": "stream",
     "text": [
      "<class 'pandas.core.frame.DataFrame'>\n",
      "RangeIndex: 2290 entries, 0 to 2289\n",
      "Data columns (total 6 columns):\n",
      " #   Column   Non-Null Count  Dtype  \n",
      "---  ------   --------------  -----  \n",
      " 0   Date     2290 non-null   object \n",
      " 1   SPX      2290 non-null   float64\n",
      " 2   GLD      2290 non-null   float64\n",
      " 3   USO      2290 non-null   float64\n",
      " 4   SLV      2290 non-null   float64\n",
      " 5   EUR/USD  2290 non-null   float64\n",
      "dtypes: float64(5), object(1)\n",
      "memory usage: 107.5+ KB\n"
     ]
    }
   ],
   "source": [
    "gld_data.info()"
   ]
  },
  {
   "cell_type": "code",
   "execution_count": 5,
   "metadata": {},
   "outputs": [
    {
     "data": {
      "text/html": [
       "<div>\n",
       "<style scoped>\n",
       "    .dataframe tbody tr th:only-of-type {\n",
       "        vertical-align: middle;\n",
       "    }\n",
       "\n",
       "    .dataframe tbody tr th {\n",
       "        vertical-align: top;\n",
       "    }\n",
       "\n",
       "    .dataframe thead th {\n",
       "        text-align: right;\n",
       "    }\n",
       "</style>\n",
       "<table border=\"1\" class=\"dataframe\">\n",
       "  <thead>\n",
       "    <tr style=\"text-align: right;\">\n",
       "      <th></th>\n",
       "      <th>Date</th>\n",
       "      <th>SPX</th>\n",
       "      <th>GLD</th>\n",
       "      <th>USO</th>\n",
       "      <th>SLV</th>\n",
       "      <th>EUR/USD</th>\n",
       "    </tr>\n",
       "  </thead>\n",
       "  <tbody>\n",
       "    <tr>\n",
       "      <th>count</th>\n",
       "      <td>2290</td>\n",
       "      <td>2290.000000</td>\n",
       "      <td>2290.000000</td>\n",
       "      <td>2290.000000</td>\n",
       "      <td>2290.000000</td>\n",
       "      <td>2290.000000</td>\n",
       "    </tr>\n",
       "    <tr>\n",
       "      <th>unique</th>\n",
       "      <td>2290</td>\n",
       "      <td>NaN</td>\n",
       "      <td>NaN</td>\n",
       "      <td>NaN</td>\n",
       "      <td>NaN</td>\n",
       "      <td>NaN</td>\n",
       "    </tr>\n",
       "    <tr>\n",
       "      <th>top</th>\n",
       "      <td>1/2/2008</td>\n",
       "      <td>NaN</td>\n",
       "      <td>NaN</td>\n",
       "      <td>NaN</td>\n",
       "      <td>NaN</td>\n",
       "      <td>NaN</td>\n",
       "    </tr>\n",
       "    <tr>\n",
       "      <th>freq</th>\n",
       "      <td>1</td>\n",
       "      <td>NaN</td>\n",
       "      <td>NaN</td>\n",
       "      <td>NaN</td>\n",
       "      <td>NaN</td>\n",
       "      <td>NaN</td>\n",
       "    </tr>\n",
       "    <tr>\n",
       "      <th>mean</th>\n",
       "      <td>NaN</td>\n",
       "      <td>1654.315776</td>\n",
       "      <td>122.732875</td>\n",
       "      <td>31.842221</td>\n",
       "      <td>20.084997</td>\n",
       "      <td>1.283653</td>\n",
       "    </tr>\n",
       "    <tr>\n",
       "      <th>std</th>\n",
       "      <td>NaN</td>\n",
       "      <td>519.111540</td>\n",
       "      <td>23.283346</td>\n",
       "      <td>19.523517</td>\n",
       "      <td>7.092566</td>\n",
       "      <td>0.131547</td>\n",
       "    </tr>\n",
       "    <tr>\n",
       "      <th>min</th>\n",
       "      <td>NaN</td>\n",
       "      <td>676.530029</td>\n",
       "      <td>70.000000</td>\n",
       "      <td>7.960000</td>\n",
       "      <td>8.850000</td>\n",
       "      <td>1.039047</td>\n",
       "    </tr>\n",
       "    <tr>\n",
       "      <th>25%</th>\n",
       "      <td>NaN</td>\n",
       "      <td>1239.874969</td>\n",
       "      <td>109.725000</td>\n",
       "      <td>14.380000</td>\n",
       "      <td>15.570000</td>\n",
       "      <td>1.171313</td>\n",
       "    </tr>\n",
       "    <tr>\n",
       "      <th>50%</th>\n",
       "      <td>NaN</td>\n",
       "      <td>1551.434998</td>\n",
       "      <td>120.580002</td>\n",
       "      <td>33.869999</td>\n",
       "      <td>17.268500</td>\n",
       "      <td>1.303297</td>\n",
       "    </tr>\n",
       "    <tr>\n",
       "      <th>75%</th>\n",
       "      <td>NaN</td>\n",
       "      <td>2073.010070</td>\n",
       "      <td>132.840004</td>\n",
       "      <td>37.827501</td>\n",
       "      <td>22.882500</td>\n",
       "      <td>1.369971</td>\n",
       "    </tr>\n",
       "    <tr>\n",
       "      <th>max</th>\n",
       "      <td>NaN</td>\n",
       "      <td>2872.870117</td>\n",
       "      <td>184.589996</td>\n",
       "      <td>117.480003</td>\n",
       "      <td>47.259998</td>\n",
       "      <td>1.598798</td>\n",
       "    </tr>\n",
       "  </tbody>\n",
       "</table>\n",
       "</div>"
      ],
      "text/plain": [
       "            Date          SPX          GLD          USO          SLV  \\\n",
       "count       2290  2290.000000  2290.000000  2290.000000  2290.000000   \n",
       "unique      2290          NaN          NaN          NaN          NaN   \n",
       "top     1/2/2008          NaN          NaN          NaN          NaN   \n",
       "freq           1          NaN          NaN          NaN          NaN   \n",
       "mean         NaN  1654.315776   122.732875    31.842221    20.084997   \n",
       "std          NaN   519.111540    23.283346    19.523517     7.092566   \n",
       "min          NaN   676.530029    70.000000     7.960000     8.850000   \n",
       "25%          NaN  1239.874969   109.725000    14.380000    15.570000   \n",
       "50%          NaN  1551.434998   120.580002    33.869999    17.268500   \n",
       "75%          NaN  2073.010070   132.840004    37.827501    22.882500   \n",
       "max          NaN  2872.870117   184.589996   117.480003    47.259998   \n",
       "\n",
       "            EUR/USD  \n",
       "count   2290.000000  \n",
       "unique          NaN  \n",
       "top             NaN  \n",
       "freq            NaN  \n",
       "mean       1.283653  \n",
       "std        0.131547  \n",
       "min        1.039047  \n",
       "25%        1.171313  \n",
       "50%        1.303297  \n",
       "75%        1.369971  \n",
       "max        1.598798  "
      ]
     },
     "execution_count": 5,
     "metadata": {},
     "output_type": "execute_result"
    }
   ],
   "source": [
    "# Statistical measures\n",
    "gld_data.describe(include='all')"
   ]
  },
  {
   "cell_type": "code",
   "execution_count": 6,
   "metadata": {},
   "outputs": [
    {
     "data": {
      "text/plain": [
       "1.598798"
      ]
     },
     "execution_count": 6,
     "metadata": {},
     "output_type": "execute_result"
    }
   ],
   "source": [
    "gld_data['EUR/USD'].max()"
   ]
  },
  {
   "cell_type": "code",
   "execution_count": 7,
   "metadata": {},
   "outputs": [
    {
     "data": {
      "text/plain": [
       "(2290, 6)"
      ]
     },
     "execution_count": 7,
     "metadata": {},
     "output_type": "execute_result"
    }
   ],
   "source": [
    "gld_data.shape"
   ]
  },
  {
   "cell_type": "code",
   "execution_count": 8,
   "metadata": {},
   "outputs": [
    {
     "data": {
      "text/plain": [
       "Date       0\n",
       "SPX        0\n",
       "GLD        0\n",
       "USO        0\n",
       "SLV        0\n",
       "EUR/USD    0\n",
       "dtype: int64"
      ]
     },
     "execution_count": 8,
     "metadata": {},
     "output_type": "execute_result"
    }
   ],
   "source": [
    "# checking for missing values\n",
    "gld_data.isnull().sum()"
   ]
  },
  {
   "cell_type": "code",
   "execution_count": 9,
   "metadata": {},
   "outputs": [],
   "source": [
    "correlation=gld_data.corr()"
   ]
  },
  {
   "cell_type": "code",
   "execution_count": 10,
   "metadata": {},
   "outputs": [
    {
     "data": {
      "text/plain": [
       "<AxesSubplot:>"
      ]
     },
     "execution_count": 10,
     "metadata": {},
     "output_type": "execute_result"
    },
    {
     "data": {
      "image/png": "[encoded data removed]",
      "text/plain": [
       "<Figure size 576x576 with 2 Axes>"
      ]
     },
     "metadata": {
      "needs_background": "light"
     },
     "output_type": "display_data"
    }
   ],
   "source": [
    "# Heat map to understand the correlation\n",
    "plt.figure(figsize=(8,8))\n",
    "sns.heatmap(correlation,fmt='.1f',annot=True,cmap='Blues')"
   ]
  },
  {
   "cell_type": "code",
   "execution_count": 11,
   "metadata": {},
   "outputs": [
    {
     "name": "stdout",
     "output_type": "stream",
     "text": [
      "SPX        0.049345\n",
      "GLD        1.000000\n",
      "USO       -0.186360\n",
      "SLV        0.866632\n",
      "EUR/USD   -0.024375\n",
      "Name: GLD, dtype: float64\n"
     ]
    }
   ],
   "source": [
    "# correlation values of GLD\n",
    "print (correlation['GLD'])\n"
   ]
  },
  {
   "cell_type": "code",
   "execution_count": 12,
   "metadata": {},
   "outputs": [
    {
     "data": {
      "text/plain": [
       "<AxesSubplot:xlabel='GLD', ylabel='Density'>"
      ]
     },
     "execution_count": 12,
     "metadata": {},
     "output_type": "execute_result"
    },
    {
     "data": {
      "image/png": "[encoded data removed]",
      "text/plain": [
       "<Figure size 432x288 with 1 Axes>"
      ]
     },
     "metadata": {
      "needs_background": "light"
     },
     "output_type": "display_data"
    }
   ],
   "source": [
    "# check the distribution of gold price \n",
    "sns.distplot(gld_data['GLD'],color='blue')"
   ]
  },
  {
   "cell_type": "markdown",
   "metadata": {},
   "source": [
    "splitting the features and target"
   ]
  },
  {
   "cell_type": "code",
   "execution_count": 13,
   "metadata": {},
   "outputs": [],
   "source": [
    "X= gld_data.drop(['Date','GLD'],axis=1)\n",
    "Y= gld_data['GLD']"
   ]
  },
  {
   "cell_type": "code",
   "execution_count": 14,
   "metadata": {},
   "outputs": [
    {
     "name": "stdout",
     "output_type": "stream",
     "text": [
      "              SPX        USO      SLV   EUR/USD\n",
      "0     1447.160034  78.470001  15.1800  1.471692\n",
      "1     1447.160034  78.370003  15.2850  1.474491\n",
      "2     1411.630005  77.309998  15.1670  1.475492\n",
      "3     1416.180054  75.500000  15.0530  1.468299\n",
      "4     1390.189941  76.059998  15.5900  1.557099\n",
      "...           ...        ...      ...       ...\n",
      "2285  2671.919922  14.060000  15.5100  1.186789\n",
      "2286  2697.790039  14.370000  15.5300  1.184722\n",
      "2287  2723.070068  14.410000  15.7400  1.191753\n",
      "2288  2730.129883  14.380000  15.5600  1.193118\n",
      "2289  2725.780029  14.405800  15.4542  1.182033\n",
      "\n",
      "[2290 rows x 4 columns]\n"
     ]
    }
   ],
   "source": [
    "print(X)"
   ]
  },
  {
   "cell_type": "code",
   "execution_count": 15,
   "metadata": {},
   "outputs": [
    {
     "name": "stdout",
     "output_type": "stream",
     "text": [
      "0        84.860001\n",
      "1        85.570000\n",
      "2        85.129997\n",
      "3        84.769997\n",
      "4        86.779999\n",
      "           ...    \n",
      "2285    124.589996\n",
      "2286    124.330002\n",
      "2287    125.180000\n",
      "2288    124.489998\n",
      "2289    122.543800\n",
      "Name: GLD, Length: 2290, dtype: float64\n"
     ]
    }
   ],
   "source": [
    "print(Y)"
   ]
  },
  {
   "cell_type": "markdown",
   "metadata": {},
   "source": [
    "Splitting into Training and Test data"
   ]
  },
  {
   "cell_type": "code",
   "execution_count": 16,
   "metadata": {},
   "outputs": [],
   "source": [
    "xtrain,xtest,ytrain,ytest=train_test_split(X,Y,test_size=0.25,random_state=101)\n"
   ]
  },
  {
   "cell_type": "code",
   "execution_count": 17,
   "metadata": {},
   "outputs": [],
   "source": [
    "regressor=RandomForestRegressor()"
   ]
  },
  {
   "cell_type": "code",
   "execution_count": 18,
   "metadata": {},
   "outputs": [
    {
     "name": "stdout",
     "output_type": "stream",
     "text": [
      "RF Model: 99 %\n"
     ]
    }
   ],
   "source": [
    "# train the model\n",
    "regressor.fit(xtrain,ytrain)\n",
    "print('RF Model:',round(100*regressor.score(xtest,ytest)),'%')"
   ]
  },
  {
   "cell_type": "code",
   "execution_count": 19,
   "metadata": {},
   "outputs": [
    {
     "name": "stdout",
     "output_type": "stream",
     "text": [
      "Linear Model: 89 %\n"
     ]
    }
   ],
   "source": [
    "linear_model=LinearRegression().fit(xtrain,ytrain)\n",
    "print('Linear Model:',round(100*linear_model.score(xtest,ytest)),'%')"
   ]
  },
  {
   "cell_type": "markdown",
   "metadata": {},
   "source": [
    "model evaluation"
   ]
  },
  {
   "cell_type": "code",
   "execution_count": 20,
   "metadata": {},
   "outputs": [],
   "source": [
    "# prediction on test data\n",
    "test_data_pred=regressor.predict(xtest)"
   ]
  },
  {
   "cell_type": "code",
   "execution_count": 21,
   "metadata": {},
   "outputs": [
    {
     "name": "stdout",
     "output_type": "stream",
     "text": [
      "[127.62759857 105.10319958 121.50790025 125.4485989  114.94329986\n",
      " 118.98939983 154.96469962 122.31529927  99.19069937 125.53169984\n",
      " 115.00000027 117.26740113 156.88759929 117.83359929 117.63109907\n",
      "  92.16799929 167.05199739 125.08819904 115.04489961 172.04790143\n",
      " 149.09530141 118.15780148 128.98839898 121.87069976 128.04150203\n",
      "  89.85580035 119.20510113  90.63440132 120.41699891 125.55410193\n",
      "  97.97739694 154.87060192 156.58499977 120.47940128 123.06559997\n",
      " 148.06690176  96.73530015 114.57020015 161.43460246 116.53950056\n",
      " 120.02740181 125.42480034 157.04110009 118.30950123 125.64399979\n",
      " 114.8609005   86.62029931 107.33600012 116.64000081 125.07870204\n",
      " 137.04500022  92.82279877 107.47260066 145.96290092 117.24560112\n",
      " 154.95650264 120.43589904 165.32610183 161.90520213 131.61929827\n",
      " 107.40109861 148.54250009 160.84589986  93.90559841 109.68400006\n",
      " 116.1435009  121.08610105 110.14489903 119.93150203 127.42349798\n",
      "  90.31330013 123.94870033 157.23160005 149.52690382  91.5492991\n",
      " 123.85589998  89.18339949 114.10230071 121.80119982 117.84630128\n",
      " 117.45999969 108.9027988  130.78670273 114.46470108 104.58550096\n",
      " 114.76820026 165.37560033 117.85300138 119.16790145  94.56869998\n",
      "  92.40939942 170.33289978 132.59420107 103.32349955 131.10330083\n",
      " 109.6561009  113.19040083 156.86330308 117.29679716 128.25800068\n",
      " 127.26849724 154.06380217 125.89390107 110.55849999 114.53709995\n",
      "  95.75889882  93.87929842  93.25350016 113.50670222 154.45009932\n",
      "  83.82270067 114.73800168 119.69710099 110.68129949 153.62450092\n",
      " 119.98410019 166.91729821 154.80080055 113.90340047  85.92519836\n",
      " 111.22790065 111.91460098 119.72979908 125.4856999  108.44959929\n",
      " 119.11300007 146.9427016  135.0042977  118.40760188 125.26969939\n",
      " 125.09890121 160.85180077 156.93919952 111.79390046 104.12529968\n",
      "  76.50139829 102.87779929 124.96229982  90.05270062 109.18739944\n",
      "  81.03300023 113.46110112 111.78170004 122.65399922 112.10529862\n",
      "  91.72959856  89.05279973 165.7063021   79.0648998   82.35689927\n",
      " 165.27980101 168.37380039 128.9066013   72.90150065 115.70529961\n",
      "  83.78859911 121.51819812  90.06900033 112.47570032 121.48650119\n",
      " 125.01170002 125.48449999 111.78030022 113.41939966 125.33280007\n",
      "  87.84500068 120.78840119  92.24569866 112.99920064 148.76249726\n",
      " 151.52129589 119.73839915 113.46670062  90.25570092 169.56669659\n",
      " 122.20129953 120.73639982 108.64709925  91.93619893 121.48740016\n",
      " 101.55269849 117.9267002  103.65279829 163.6311988  127.17929915\n",
      " 135.04919641  86.45319873 147.8495993  137.58379964 108.94069935\n",
      " 134.85840178 155.52430197 127.82429872 124.56560125 121.97360188\n",
      " 145.05649999 153.77740099 143.36629637 126.38139976 123.55870056\n",
      " 121.37440081 131.05980145 127.44079742 120.0779009  121.36580056\n",
      " 119.47620008 105.00470225 129.14839879 153.74720167  84.35839973\n",
      " 165.81410022 145.17319918 119.80459996  83.81959925  89.08750107\n",
      " 120.21180019 102.32449998 159.14840073 168.89859927 105.34029837\n",
      " 111.66509999  86.24739798 124.37820041 153.8648024  120.39460019\n",
      " 166.60949806 125.2374997  104.2824999  111.74589968 126.30280148\n",
      " 135.71730013 123.17159937 146.77089822 165.987802   117.30040091\n",
      " 118.22250042 109.15549898 125.93729964 124.55209949  87.17559908\n",
      " 112.07550092 129.01010116 132.66870282 147.55709989 117.51889995\n",
      "  86.22149849 159.08869797 131.62680043 135.23560091  75.51339922\n",
      "  91.9782988  134.05239989  79.17469929 102.08500015  92.63889871\n",
      " 123.48319963 166.55220105 117.96230072  91.12080064 144.20089665\n",
      "  89.01270017 119.82389931 164.63660027 160.46600022 125.54249969\n",
      " 150.81339905 125.87700052 123.65059885 139.09799928 165.24199714\n",
      " 129.76150042 154.53560118 120.74690043 180.20909534  90.85489937\n",
      " 167.26959892 153.54040147 120.21530045 114.42900013 126.73129845\n",
      " 157.98660139 127.18359736 124.36800018 118.87269981 116.61980098\n",
      " 114.76490083 107.45149898  83.24349974 132.02640116 122.35850021\n",
      " 117.19230196 126.79900015 105.37080085 117.32040032 115.43030052\n",
      " 102.98570044  86.77979888 132.54820245 160.39869987 122.69830019\n",
      " 166.58109842  92.7212986  119.5048008  142.32719871 125.89300147\n",
      " 127.05780168 151.09579815 120.87490006 131.45739914 108.55630107\n",
      " 112.08599834 109.27740131 117.9596005   95.52680061  80.54099967\n",
      " 125.26999915 154.50300038 153.1714016  120.32970066 118.73409923\n",
      "  83.8036993  117.28880096 135.94880092 164.44150119 121.60289936\n",
      " 168.05079817 107.35270083 115.05850066 125.47290087 137.12430221\n",
      " 120.48150063 165.17579955 113.92270108  73.38930005  83.74409919\n",
      "  90.07230074  92.88710012 127.97320066 114.91860017 150.02229765\n",
      " 171.88540214 124.86339869 134.05149871 165.43850191 168.06439832\n",
      " 106.71069898  80.10889965 106.09939933  88.03249974  92.6920995\n",
      " 126.75010067 125.20360027  91.23849961 125.4866003  118.82700039\n",
      " 126.95300041  94.4994991   80.50909946 111.69360012  86.83539949\n",
      "  92.61689841 166.34659997 125.78370007 126.99910069 142.80790218\n",
      " 124.7550006   88.38999948 127.45540051  79.73339917 111.39180044\n",
      " 160.6983022   97.24409756 109.15600051  90.31650056 121.945599\n",
      " 167.28890209 107.09150089 124.48629992 122.60659988  80.45379914\n",
      " 127.56790066  94.24909901 122.12569935  89.6238003  122.31933762\n",
      " 124.67090089 126.97099975 124.5629002  103.40069966  72.33840095\n",
      "  83.70129932 107.94819918 147.82180061 141.64530176  98.70839935\n",
      " 125.88850066 159.29750057 124.14249995 116.76009892 111.88100007\n",
      " 127.79129882  92.43589977  90.9290001  119.3222006  126.16190069\n",
      " 101.66119929 123.6471997  144.60189862 160.45800068 156.31460247\n",
      " 148.68919996 119.15349935 160.81130163  89.87130105 120.94799983\n",
      " 146.61159901 119.68949961  91.49800226  91.64099802 111.96260147\n",
      " 151.98859948 120.3811999  154.96160201 109.46220078 127.31229858\n",
      " 125.78680219 166.33870019 160.35230065 128.501401   127.27289915\n",
      " 120.47159887 139.29879901 117.37840195  96.18790025 124.14170001\n",
      " 120.09959977  96.74949702 109.67229905 108.78899822 153.36060283\n",
      " 116.99040255  90.61939954 167.82399499 124.93089969 169.67309783\n",
      " 161.29399842  85.38959851 120.66420049  91.2412991  120.11409911\n",
      " 134.83220101 103.65820009 124.51540103 118.55709996 126.80330041\n",
      "  86.43589845 115.89279987 114.74439939 132.09590048 119.21469894\n",
      " 110.59990043 153.29850104 118.63150111 169.42169913 117.4476989\n",
      " 120.72749958 164.57280253 128.98419989 141.37129959 111.03379949\n",
      " 153.66230103 118.6572994  116.67070083 112.38459982 139.64380164\n",
      " 137.1051038  132.49810216  72.69409964 119.34479974 104.14769871\n",
      " 110.3495984   99.0283996  113.52500059 175.81089634 126.9134\n",
      " 127.7746953   83.28269965 115.74999968  84.43689961 108.35140057\n",
      " 126.81240029  93.94239822 113.69720069 120.50599974  73.84230057\n",
      " 119.05230143 102.4615005  125.48740182 108.00319834 135.58309795\n",
      " 115.70319941 160.37499822 163.54400249 120.17220083 148.38759957\n",
      "  90.99179812  82.22739992 114.23190036 151.78150168 159.74569962\n",
      "  92.38539967 161.72209828 165.44260157 122.24959896 130.01120265\n",
      " 174.27159794 125.06730056 166.4473994  117.00109947 118.32650045\n",
      " 118.56930172 108.44159925  91.24599954 113.04460019 121.89740079\n",
      " 102.39669996 114.71960055  91.22580127 122.61041302  97.11689873\n",
      " 121.39749958 113.76920045 117.30829945 118.70630025 135.65459805\n",
      " 124.95440158 153.34820166  97.85490038 162.2695019  125.87699971\n",
      " 125.06809943 117.67190051 125.50500029 153.14880041 124.01660046\n",
      " 135.40339781  91.23820176 120.60759896 103.58699927 118.70709995\n",
      " 124.92799911 169.01670005 175.109798   113.79200068 166.55730235\n",
      " 103.49860086 109.37899964 122.79809935 114.24900007 128.37220056\n",
      " 154.75260068 127.33860115 119.99890216 163.10160014 145.28940204\n",
      " 110.5230985  125.21240084 158.13299945 120.5216991  119.44510013\n",
      " 160.84210125 120.91420059  86.76559871]\n"
     ]
    }
   ],
   "source": [
    "print(test_data_pred)"
   ]
  },
  {
   "cell_type": "code",
   "execution_count": 22,
   "metadata": {},
   "outputs": [
    {
     "name": "stdout",
     "output_type": "stream",
     "text": [
      "R squared error : 0.9900136365778218\n"
     ]
    }
   ],
   "source": [
    "# R squared error \n",
    "error_score=metrics.r2_score(ytest,test_data_pred)\n",
    "print('R squared error :',error_score)"
   ]
  },
  {
   "cell_type": "markdown",
   "metadata": {},
   "source": [
    "compare the actual and predicted values"
   ]
  },
  {
   "cell_type": "code",
   "execution_count": 23,
   "metadata": {},
   "outputs": [],
   "source": [
    "ytest=list(ytest)"
   ]
  },
  {
   "cell_type": "code",
   "execution_count": 24,
   "metadata": {},
   "outputs": [
    {
     "data": {
      "image/png": "[encoded data removed]",
      "text/plain": [
       "<Figure size 432x288 with 1 Axes>"
      ]
     },
     "metadata": {
      "needs_background": "light"
     },
     "output_type": "display_data"
    }
   ],
   "source": [
    "plt.plot(ytest,color='red',label='Actual Value')\n",
    "plt.plot(test_data_pred,color='green',label='Predicted Value')\n",
    "plt.title('Actual Price vs Predicted Price')\n",
    "plt.xlabel('Number of values')\n",
    "plt.ylabel('GLD Price')\n",
    "plt.legend()\n",
    "plt.show()"
   ]
  },
  {
   "cell_type": "code",
   "execution_count": 25,
   "metadata": {},
   "outputs": [],
   "source": [
    "pd.to_pickle(regressor,'gld_price_prediction.pkl')"
   ]
  },
  {
   "cell_type": "code",
   "execution_count": 26,
   "metadata": {},
   "outputs": [],
   "source": [
    "pd.to_pickle(linear_model,'gold_predictor.pkl')"
   ]
  },
  {
   "cell_type": "code",
   "execution_count": null,
   "metadata": {},
   "outputs": [],
   "source": []
  }
 ],
 "metadata": {
  "kernelspec": {
   "display_name": "Python 3.9.12 ('base')",
   "language": "python",
   "name": "python3"
  },
  "language_info": {
   "codemirror_mode": {
    "name": "ipython",
    "version": 3
   },
   "file_extension": ".py",
   "mimetype": "text/x-python",
   "name": "python",
   "nbconvert_exporter": "python",
   "pygments_lexer": "ipython3",
   "version": "3.9.12"
  },
  "orig_nbformat": 4,
  "vscode": {
   "interpreter": {
    "hash": "dc07d24e2f18896857f0b2a651fe84ba40ce7b297e58d8804a308c8039f752a6"
   }
  }
 },
 "nbformat": 4,
 "nbformat_minor": 2
}
